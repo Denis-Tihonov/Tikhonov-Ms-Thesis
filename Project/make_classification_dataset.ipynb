{
 "cells": [
  {
   "cell_type": "code",
   "execution_count": null,
   "metadata": {},
   "outputs": [],
   "source": [
    "import numpy as np\n",
    "import pandas as pd"
   ]
  },
  {
   "cell_type": "markdown",
   "metadata": {},
   "source": [
    "# Spherical harm dataset"
   ]
  },
  {
   "cell_type": "code",
   "execution_count": null,
   "metadata": {},
   "outputs": [],
   "source": [
    "dir_list = ['dws_11','ups_12', 'wlk_7', 'wlk_15', 'wlk_8',\n",
    "            'dws_2', 'jog_9', 'ups_3', 'ups_4', 'jog_16',\n",
    "            'dws_1']\n",
    "dir_list = sorted(dir_list, reverse=True)"
   ]
  },
  {
   "cell_type": "code",
   "execution_count": null,
   "metadata": {},
   "outputs": [],
   "source": [
    "class_dict = {'wlk':0, 'ups':1, 'jog':2, 'dws':3}"
   ]
  },
  {
   "cell_type": "code",
   "execution_count": null,
   "metadata": {},
   "outputs": [],
   "source": [
    "df_full = pd.DataFrame(columns=['data','class','class_id'])"
   ]
  },
  {
   "cell_type": "code",
   "execution_count": null,
   "metadata": {},
   "outputs": [],
   "source": [
    "_id = 0 \n",
    "for i, act_type in enumerate(dir_list):\n",
    "    for sub in np.arange(1,21):\n",
    "        df = pd.read_csv(f'./data/A_DeviceMotion_data/{act_type}/sub_{sub}.csv')\n",
    "        x_1 = df[['gravity.x', 'gravity.y','gravity.z']].to_numpy()*9.8\n",
    "        x_2 = df[['userAcceleration.x', 'userAcceleration.y','userAcceleration.z']].to_numpy()*9.8\n",
    "        x_acc = x_1+x_2\n",
    "        x = np.sum(x_acc ** 2, axis = 1)**.5 - 9.8\n",
    "        \n",
    "        df = pd.DataFrame()\n",
    "        to_df = x[:500]\n",
    "        df.loc[index:index+500,'data'] = x[:500]\n",
    "        df.loc[index:index+500,'class'] = np.ones(len(to_df)) * class_dict[act_type[:3]]\n",
    "        df.loc[index:index+500,'class_id'] = np.ones(len(to_df)) * _id\n",
    "        _id += 1\n",
    "        \n",
    "        break\n",
    "#         df.loc[index:index+499,'data'] = x[500:1000]\n",
    "#         df.loc[index:index+499,'class'] = class_dict[act_type[:3]]\n",
    "#         df.loc[index:index+499,'class_id'] = _id\n",
    "        \n",
    "#         _id += 1"
   ]
  },
  {
   "cell_type": "code",
   "execution_count": null,
   "metadata": {},
   "outputs": [],
   "source": []
  }
 ],
 "metadata": {
  "kernelspec": {
   "display_name": "Python 3",
   "language": "python",
   "name": "python3"
  },
  "language_info": {
   "codemirror_mode": {
    "name": "ipython",
    "version": 3
   },
   "file_extension": ".py",
   "mimetype": "text/x-python",
   "name": "python",
   "nbconvert_exporter": "python",
   "pygments_lexer": "ipython3",
   "version": "3.8.5"
  }
 },
 "nbformat": 4,
 "nbformat_minor": 4
}
